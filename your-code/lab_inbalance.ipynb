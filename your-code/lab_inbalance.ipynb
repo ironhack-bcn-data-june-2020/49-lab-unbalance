{
 "cells": [
  {
   "cell_type": "markdown",
   "metadata": {},
   "source": [
    "# Inbalanced Classes\n",
    "## In this lab, we are going to explore a case of imbalanced classes. \n",
    "\n",
    "\n",
    "Like we disussed in class, when we have noisy data, if we are not careful, we can end up fitting our model to the noise in the data and not the 'signal'-- the factors that actually determine the outcome. This is called overfitting, and results in good results in training, and in bad results when the model is applied to real data. Similarly, we could have a model that is too simplistic to accurately model the signal. This produces a model that doesnt work well (ever). \n"
   ]
  },
  {
   "cell_type": "markdown",
   "metadata": {},
   "source": [
    "### First, download the data from: https://www.kaggle.com/ntnu-testimon/paysim1. Import the dataset and provide some discriptive statistics and plots. What do you think will be the important features in determining the outcome?"
   ]
  },
  {
   "cell_type": "code",
   "execution_count": 1,
   "metadata": {},
   "outputs": [],
   "source": [
<<<<<<< HEAD
    "# Your code here\n",
    "# Import libraries\n",
    "import pandas as pd\n",
    "import numpy as np\n",
    "\n",
    "#Visualización\n",
    "import matplotlib.pyplot as plt\n",
    "import seaborn as sns\n",
    "plt.rcParams[\"figure.figsize\"] = (16,6)"
   ]
  },
  {
   "cell_type": "code",
   "execution_count": 2,
   "metadata": {},
   "outputs": [
    {
     "data": {
      "text/html": [
       "<div>\n",
       "<style scoped>\n",
       "    .dataframe tbody tr th:only-of-type {\n",
       "        vertical-align: middle;\n",
       "    }\n",
       "\n",
       "    .dataframe tbody tr th {\n",
       "        vertical-align: top;\n",
       "    }\n",
       "\n",
       "    .dataframe thead th {\n",
       "        text-align: right;\n",
       "    }\n",
       "</style>\n",
       "<table border=\"1\" class=\"dataframe\">\n",
       "  <thead>\n",
       "    <tr style=\"text-align: right;\">\n",
       "      <th></th>\n",
       "      <th>step</th>\n",
       "      <th>type</th>\n",
       "      <th>amount</th>\n",
       "      <th>nameOrig</th>\n",
       "      <th>oldbalanceOrg</th>\n",
       "      <th>newbalanceOrig</th>\n",
       "      <th>nameDest</th>\n",
       "      <th>oldbalanceDest</th>\n",
       "      <th>newbalanceDest</th>\n",
       "      <th>isFraud</th>\n",
       "      <th>isFlaggedFraud</th>\n",
       "    </tr>\n",
       "  </thead>\n",
       "  <tbody>\n",
       "    <tr>\n",
       "      <td>0</td>\n",
       "      <td>1</td>\n",
       "      <td>PAYMENT</td>\n",
       "      <td>9839.64</td>\n",
       "      <td>C1231006815</td>\n",
       "      <td>170136.0</td>\n",
       "      <td>160296.36</td>\n",
       "      <td>M1979787155</td>\n",
       "      <td>0.0</td>\n",
       "      <td>0.0</td>\n",
       "      <td>0</td>\n",
       "      <td>0</td>\n",
       "    </tr>\n",
       "    <tr>\n",
       "      <td>1</td>\n",
       "      <td>1</td>\n",
       "      <td>PAYMENT</td>\n",
       "      <td>1864.28</td>\n",
       "      <td>C1666544295</td>\n",
       "      <td>21249.0</td>\n",
       "      <td>19384.72</td>\n",
       "      <td>M2044282225</td>\n",
       "      <td>0.0</td>\n",
       "      <td>0.0</td>\n",
       "      <td>0</td>\n",
       "      <td>0</td>\n",
       "    </tr>\n",
       "    <tr>\n",
       "      <td>2</td>\n",
       "      <td>1</td>\n",
       "      <td>TRANSFER</td>\n",
       "      <td>181.00</td>\n",
       "      <td>C1305486145</td>\n",
       "      <td>181.0</td>\n",
       "      <td>0.00</td>\n",
       "      <td>C553264065</td>\n",
       "      <td>0.0</td>\n",
       "      <td>0.0</td>\n",
       "      <td>1</td>\n",
       "      <td>0</td>\n",
       "    </tr>\n",
       "    <tr>\n",
       "      <td>3</td>\n",
       "      <td>1</td>\n",
       "      <td>CASH_OUT</td>\n",
       "      <td>181.00</td>\n",
       "      <td>C840083671</td>\n",
       "      <td>181.0</td>\n",
       "      <td>0.00</td>\n",
       "      <td>C38997010</td>\n",
       "      <td>21182.0</td>\n",
       "      <td>0.0</td>\n",
       "      <td>1</td>\n",
       "      <td>0</td>\n",
       "    </tr>\n",
       "    <tr>\n",
       "      <td>4</td>\n",
       "      <td>1</td>\n",
       "      <td>PAYMENT</td>\n",
       "      <td>11668.14</td>\n",
       "      <td>C2048537720</td>\n",
       "      <td>41554.0</td>\n",
       "      <td>29885.86</td>\n",
       "      <td>M1230701703</td>\n",
       "      <td>0.0</td>\n",
       "      <td>0.0</td>\n",
       "      <td>0</td>\n",
       "      <td>0</td>\n",
       "    </tr>\n",
       "  </tbody>\n",
       "</table>\n",
       "</div>"
      ],
      "text/plain": [
       "   step      type    amount     nameOrig  oldbalanceOrg  newbalanceOrig  \\\n",
       "0     1   PAYMENT   9839.64  C1231006815       170136.0       160296.36   \n",
       "1     1   PAYMENT   1864.28  C1666544295        21249.0        19384.72   \n",
       "2     1  TRANSFER    181.00  C1305486145          181.0            0.00   \n",
       "3     1  CASH_OUT    181.00   C840083671          181.0            0.00   \n",
       "4     1   PAYMENT  11668.14  C2048537720        41554.0        29885.86   \n",
       "\n",
       "      nameDest  oldbalanceDest  newbalanceDest  isFraud  isFlaggedFraud  \n",
       "0  M1979787155             0.0             0.0        0               0  \n",
       "1  M2044282225             0.0             0.0        0               0  \n",
       "2   C553264065             0.0             0.0        1               0  \n",
       "3    C38997010         21182.0             0.0        1               0  \n",
       "4  M1230701703             0.0             0.0        0               0  "
      ]
     },
     "execution_count": 2,
     "metadata": {},
     "output_type": "execute_result"
    }
   ],
   "source": [
    "df= pd.read_csv(\"Fraud_Detection.csv\")\n",
    "df.head()"
   ]
  },
  {
   "cell_type": "code",
   "execution_count": 3,
   "metadata": {},
   "outputs": [
    {
     "data": {
      "text/html": [
       "<div>\n",
       "<style scoped>\n",
       "    .dataframe tbody tr th:only-of-type {\n",
       "        vertical-align: middle;\n",
       "    }\n",
       "\n",
       "    .dataframe tbody tr th {\n",
       "        vertical-align: top;\n",
       "    }\n",
       "\n",
       "    .dataframe thead th {\n",
       "        text-align: right;\n",
       "    }\n",
       "</style>\n",
       "<table border=\"1\" class=\"dataframe\">\n",
       "  <thead>\n",
       "    <tr style=\"text-align: right;\">\n",
       "      <th></th>\n",
       "      <th>step</th>\n",
       "      <th>amount</th>\n",
       "      <th>oldbalanceOrg</th>\n",
       "      <th>newbalanceOrig</th>\n",
       "      <th>oldbalanceDest</th>\n",
       "      <th>newbalanceDest</th>\n",
       "      <th>isFraud</th>\n",
       "      <th>isFlaggedFraud</th>\n",
       "    </tr>\n",
       "  </thead>\n",
       "  <tbody>\n",
       "    <tr>\n",
       "      <td>count</td>\n",
       "      <td>6.362620e+06</td>\n",
       "      <td>6.362620e+06</td>\n",
       "      <td>6.362620e+06</td>\n",
       "      <td>6.362620e+06</td>\n",
       "      <td>6.362620e+06</td>\n",
       "      <td>6.362620e+06</td>\n",
       "      <td>6.362620e+06</td>\n",
       "      <td>6.362620e+06</td>\n",
       "    </tr>\n",
       "    <tr>\n",
       "      <td>mean</td>\n",
       "      <td>2.433972e+02</td>\n",
       "      <td>1.798619e+05</td>\n",
       "      <td>8.338831e+05</td>\n",
       "      <td>8.551137e+05</td>\n",
       "      <td>1.100702e+06</td>\n",
       "      <td>1.224996e+06</td>\n",
       "      <td>1.290820e-03</td>\n",
       "      <td>2.514687e-06</td>\n",
       "    </tr>\n",
       "    <tr>\n",
       "      <td>std</td>\n",
       "      <td>1.423320e+02</td>\n",
       "      <td>6.038582e+05</td>\n",
       "      <td>2.888243e+06</td>\n",
       "      <td>2.924049e+06</td>\n",
       "      <td>3.399180e+06</td>\n",
       "      <td>3.674129e+06</td>\n",
       "      <td>3.590480e-02</td>\n",
       "      <td>1.585775e-03</td>\n",
       "    </tr>\n",
       "    <tr>\n",
       "      <td>min</td>\n",
       "      <td>1.000000e+00</td>\n",
       "      <td>0.000000e+00</td>\n",
       "      <td>0.000000e+00</td>\n",
       "      <td>0.000000e+00</td>\n",
       "      <td>0.000000e+00</td>\n",
       "      <td>0.000000e+00</td>\n",
       "      <td>0.000000e+00</td>\n",
       "      <td>0.000000e+00</td>\n",
       "    </tr>\n",
       "    <tr>\n",
       "      <td>25%</td>\n",
       "      <td>1.560000e+02</td>\n",
       "      <td>1.338957e+04</td>\n",
       "      <td>0.000000e+00</td>\n",
       "      <td>0.000000e+00</td>\n",
       "      <td>0.000000e+00</td>\n",
       "      <td>0.000000e+00</td>\n",
       "      <td>0.000000e+00</td>\n",
       "      <td>0.000000e+00</td>\n",
       "    </tr>\n",
       "    <tr>\n",
       "      <td>50%</td>\n",
       "      <td>2.390000e+02</td>\n",
       "      <td>7.487194e+04</td>\n",
       "      <td>1.420800e+04</td>\n",
       "      <td>0.000000e+00</td>\n",
       "      <td>1.327057e+05</td>\n",
       "      <td>2.146614e+05</td>\n",
       "      <td>0.000000e+00</td>\n",
       "      <td>0.000000e+00</td>\n",
       "    </tr>\n",
       "    <tr>\n",
       "      <td>75%</td>\n",
       "      <td>3.350000e+02</td>\n",
       "      <td>2.087215e+05</td>\n",
       "      <td>1.073152e+05</td>\n",
       "      <td>1.442584e+05</td>\n",
       "      <td>9.430367e+05</td>\n",
       "      <td>1.111909e+06</td>\n",
       "      <td>0.000000e+00</td>\n",
       "      <td>0.000000e+00</td>\n",
       "    </tr>\n",
       "    <tr>\n",
       "      <td>max</td>\n",
       "      <td>7.430000e+02</td>\n",
       "      <td>9.244552e+07</td>\n",
       "      <td>5.958504e+07</td>\n",
       "      <td>4.958504e+07</td>\n",
       "      <td>3.560159e+08</td>\n",
       "      <td>3.561793e+08</td>\n",
       "      <td>1.000000e+00</td>\n",
       "      <td>1.000000e+00</td>\n",
       "    </tr>\n",
       "  </tbody>\n",
       "</table>\n",
       "</div>"
      ],
      "text/plain": [
       "               step        amount  oldbalanceOrg  newbalanceOrig  \\\n",
       "count  6.362620e+06  6.362620e+06   6.362620e+06    6.362620e+06   \n",
       "mean   2.433972e+02  1.798619e+05   8.338831e+05    8.551137e+05   \n",
       "std    1.423320e+02  6.038582e+05   2.888243e+06    2.924049e+06   \n",
       "min    1.000000e+00  0.000000e+00   0.000000e+00    0.000000e+00   \n",
       "25%    1.560000e+02  1.338957e+04   0.000000e+00    0.000000e+00   \n",
       "50%    2.390000e+02  7.487194e+04   1.420800e+04    0.000000e+00   \n",
       "75%    3.350000e+02  2.087215e+05   1.073152e+05    1.442584e+05   \n",
       "max    7.430000e+02  9.244552e+07   5.958504e+07    4.958504e+07   \n",
       "\n",
       "       oldbalanceDest  newbalanceDest       isFraud  isFlaggedFraud  \n",
       "count    6.362620e+06    6.362620e+06  6.362620e+06    6.362620e+06  \n",
       "mean     1.100702e+06    1.224996e+06  1.290820e-03    2.514687e-06  \n",
       "std      3.399180e+06    3.674129e+06  3.590480e-02    1.585775e-03  \n",
       "min      0.000000e+00    0.000000e+00  0.000000e+00    0.000000e+00  \n",
       "25%      0.000000e+00    0.000000e+00  0.000000e+00    0.000000e+00  \n",
       "50%      1.327057e+05    2.146614e+05  0.000000e+00    0.000000e+00  \n",
       "75%      9.430367e+05    1.111909e+06  0.000000e+00    0.000000e+00  \n",
       "max      3.560159e+08    3.561793e+08  1.000000e+00    1.000000e+00  "
      ]
     },
     "execution_count": 3,
     "metadata": {},
     "output_type": "execute_result"
    }
   ],
   "source": [
    "df.describe()"
   ]
  },
  {
   "cell_type": "code",
   "execution_count": 4,
   "metadata": {},
   "outputs": [
    {
     "data": {
      "image/png": "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\n",
      "text/plain": [
       "<Figure size 1296x1152 with 2 Axes>"
      ]
     },
     "metadata": {},
     "output_type": "display_data"
    }
   ],
   "source": [
    "sns.set(style=\"white\")\n",
    "\n",
    "# Generate a mask for the upper triangle\n",
    "mask = np.triu(np.ones_like(df.corr(), dtype=np.bool))\n",
    "\n",
    "# Set up the matplotlib figure\n",
    "f, ax = plt.subplots(figsize=(18, 16))\n",
    "\n",
    "# Generate a custom diverging colormap\n",
    "cmap = sns.diverging_palette(220, 10, as_cmap=True)\n",
    "\n",
    "# Draw the heatmap with the mask and correct aspect ratio\n",
    "sns.heatmap(df.corr(), mask=mask, cmap=cmap, vmax=1, center=0, vmin=-1,\n",
    "            square=True, linewidths=.5, annot = True, cbar_kws={\"shrink\": .5})\n",
    "\n",
    "plt.show()"
   ]
  },
  {
   "cell_type": "code",
   "execution_count": 5,
   "metadata": {},
   "outputs": [],
   "source": [
    "# High correlation: 'newbalanceOrig','oldbalanceOrig'/'newbalanceDest','oldbalanceDest'"
=======
    "# Your code here"
>>>>>>> 505ad244769bf1a89837435ff97127f79113fd88
   ]
  },
  {
   "cell_type": "markdown",
   "metadata": {},
   "source": [
    "### What is the distribution of the outcome? "
   ]
  },
  {
   "cell_type": "code",
<<<<<<< HEAD
   "execution_count": 6,
   "metadata": {},
   "outputs": [
    {
     "data": {
      "text/plain": [
       "0    6354407\n",
       "1       8213\n",
       "Name: isFraud, dtype: int64"
      ]
     },
     "execution_count": 6,
     "metadata": {},
     "output_type": "execute_result"
    }
   ],
   "source": [
    "# Your response here\n",
    "df.isFraud.value_counts()"
   ]
  },
  {
   "cell_type": "code",
   "execution_count": 7,
   "metadata": {},
   "outputs": [
    {
     "data": {
      "image/png": "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\n",
      "text/plain": [
       "<Figure size 432x288 with 1 Axes>"
      ]
     },
     "metadata": {},
     "output_type": "display_data"
    }
   ],
   "source": [
    "cp = sns.countplot(df[\"isFraud\"])\n",
    "cp.set_yscale(\"log\")"
   ]
  },
  {
   "cell_type": "code",
   "execution_count": 8,
   "metadata": {},
   "outputs": [
    {
     "data": {
      "text/html": [
       "<div>\n",
       "<style scoped>\n",
       "    .dataframe tbody tr th:only-of-type {\n",
       "        vertical-align: middle;\n",
       "    }\n",
       "\n",
       "    .dataframe tbody tr th {\n",
       "        vertical-align: top;\n",
       "    }\n",
       "\n",
       "    .dataframe thead th {\n",
       "        text-align: right;\n",
       "    }\n",
       "</style>\n",
       "<table border=\"1\" class=\"dataframe\">\n",
       "  <thead>\n",
       "    <tr style=\"text-align: right;\">\n",
       "      <th></th>\n",
       "      <th></th>\n",
       "      <th>step</th>\n",
       "      <th>amount</th>\n",
       "      <th>oldbalanceOrg</th>\n",
       "      <th>newbalanceOrig</th>\n",
       "      <th>oldbalanceDest</th>\n",
       "      <th>newbalanceDest</th>\n",
       "      <th>isFlaggedFraud</th>\n",
       "    </tr>\n",
       "    <tr>\n",
       "      <th>type</th>\n",
       "      <th>isFraud</th>\n",
       "      <th></th>\n",
       "      <th></th>\n",
       "      <th></th>\n",
       "      <th></th>\n",
       "      <th></th>\n",
       "      <th></th>\n",
       "      <th></th>\n",
       "    </tr>\n",
       "  </thead>\n",
       "  <tbody>\n",
       "    <tr>\n",
       "      <td>CASH_IN</td>\n",
       "      <td>0</td>\n",
       "      <td>342111075</td>\n",
       "      <td>2.363674e+11</td>\n",
       "      <td>5.024078e+12</td>\n",
       "      <td>5.260438e+12</td>\n",
       "      <td>2.221949e+12</td>\n",
       "      <td>2.052897e+12</td>\n",
       "      <td>0</td>\n",
       "    </tr>\n",
       "    <tr>\n",
       "      <td rowspan=\"2\" valign=\"top\">CASH_OUT</td>\n",
       "      <td>0</td>\n",
       "      <td>537501858</td>\n",
       "      <td>3.884238e+11</td>\n",
       "      <td>9.699414e+10</td>\n",
       "      <td>3.909821e+10</td>\n",
       "      <td>3.346768e+12</td>\n",
       "      <td>3.773848e+12</td>\n",
       "      <td>0</td>\n",
       "    </tr>\n",
       "    <tr>\n",
       "      <td>1</td>\n",
       "      <td>1513537</td>\n",
       "      <td>5.989202e+09</td>\n",
       "      <td>5.984125e+09</td>\n",
       "      <td>2.987676e+05</td>\n",
       "      <td>4.465524e+09</td>\n",
       "      <td>1.049393e+10</td>\n",
       "      <td>0</td>\n",
       "    </tr>\n",
       "    <tr>\n",
       "      <td>DEBIT</td>\n",
       "      <td>0</td>\n",
       "      <td>10293386</td>\n",
       "      <td>2.271992e+08</td>\n",
       "      <td>2.844196e+09</td>\n",
       "      <td>2.699778e+09</td>\n",
       "      <td>6.186360e+10</td>\n",
       "      <td>6.268676e+10</td>\n",
       "      <td>0</td>\n",
       "    </tr>\n",
       "    <tr>\n",
       "      <td>PAYMENT</td>\n",
       "      <td>0</td>\n",
       "      <td>525778430</td>\n",
       "      <td>2.809337e+10</td>\n",
       "      <td>1.467682e+11</td>\n",
       "      <td>1.330439e+11</td>\n",
       "      <td>0.000000e+00</td>\n",
       "      <td>0.000000e+00</td>\n",
       "      <td>0</td>\n",
       "    </tr>\n",
       "    <tr>\n",
       "      <td rowspan=\"2\" valign=\"top\">TRANSFER</td>\n",
       "      <td>0</td>\n",
       "      <td>129933651</td>\n",
       "      <td>4.792248e+11</td>\n",
       "      <td>2.144796e+10</td>\n",
       "      <td>3.902829e+09</td>\n",
       "      <td>1.368296e+12</td>\n",
       "      <td>1.894244e+12</td>\n",
       "      <td>0</td>\n",
       "    </tr>\n",
       "    <tr>\n",
       "      <td>1</td>\n",
       "      <td>1512246</td>\n",
       "      <td>6.067213e+09</td>\n",
       "      <td>7.564595e+09</td>\n",
       "      <td>1.579822e+09</td>\n",
       "      <td>4.397652e+06</td>\n",
       "      <td>1.631184e+07</td>\n",
       "      <td>16</td>\n",
       "    </tr>\n",
       "  </tbody>\n",
       "</table>\n",
       "</div>"
      ],
      "text/plain": [
       "                       step        amount  oldbalanceOrg  newbalanceOrig  \\\n",
       "type     isFraud                                                           \n",
       "CASH_IN  0        342111075  2.363674e+11   5.024078e+12    5.260438e+12   \n",
       "CASH_OUT 0        537501858  3.884238e+11   9.699414e+10    3.909821e+10   \n",
       "         1          1513537  5.989202e+09   5.984125e+09    2.987676e+05   \n",
       "DEBIT    0         10293386  2.271992e+08   2.844196e+09    2.699778e+09   \n",
       "PAYMENT  0        525778430  2.809337e+10   1.467682e+11    1.330439e+11   \n",
       "TRANSFER 0        129933651  4.792248e+11   2.144796e+10    3.902829e+09   \n",
       "         1          1512246  6.067213e+09   7.564595e+09    1.579822e+09   \n",
       "\n",
       "                  oldbalanceDest  newbalanceDest  isFlaggedFraud  \n",
       "type     isFraud                                                  \n",
       "CASH_IN  0          2.221949e+12    2.052897e+12               0  \n",
       "CASH_OUT 0          3.346768e+12    3.773848e+12               0  \n",
       "         1          4.465524e+09    1.049393e+10               0  \n",
       "DEBIT    0          6.186360e+10    6.268676e+10               0  \n",
       "PAYMENT  0          0.000000e+00    0.000000e+00               0  \n",
       "TRANSFER 0          1.368296e+12    1.894244e+12               0  \n",
       "         1          4.397652e+06    1.631184e+07              16  "
      ]
     },
     "execution_count": 8,
     "metadata": {},
     "output_type": "execute_result"
    }
   ],
   "source": [
    "fraud = df.groupby(['type','isFraud']).sum()\n",
    "fraud"
   ]
  },
  {
   "cell_type": "code",
   "execution_count": 9,
   "metadata": {},
   "outputs": [
    {
     "data": {
      "image/png": "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\n",
      "text/plain": [
       "<Figure size 432x288 with 1 Axes>"
      ]
     },
     "metadata": {},
     "output_type": "display_data"
    }
   ],
   "source": [
    "sns.set(style=\"whitegrid\")\n",
    "\n",
    "g = sns.countplot(df.type, hue=df.isFraud)\n",
    "g.set_yscale(\"log\")"
   ]
  },
  {
   "cell_type": "code",
   "execution_count": 10,
   "metadata": {},
   "outputs": [],
   "source": [
    "# Payment/Debit/Cash_In --> NO fraudolent operations"
=======
   "execution_count": null,
   "metadata": {},
   "outputs": [],
   "source": [
    "# Your response here"
>>>>>>> 505ad244769bf1a89837435ff97127f79113fd88
   ]
  },
  {
   "cell_type": "markdown",
   "metadata": {},
   "source": [
    "### Clean the dataset. How are you going to integrate the time variable? Do you think the step (integer) coding in which it is given is appropriate?"
   ]
  },
  {
   "cell_type": "code",
<<<<<<< HEAD
   "execution_count": 11,
   "metadata": {},
   "outputs": [
    {
     "data": {
      "text/plain": [
       "step              0\n",
       "type              0\n",
       "amount            0\n",
       "nameOrig          0\n",
       "oldbalanceOrg     0\n",
       "newbalanceOrig    0\n",
       "nameDest          0\n",
       "oldbalanceDest    0\n",
       "newbalanceDest    0\n",
       "isFraud           0\n",
       "isFlaggedFraud    0\n",
       "dtype: int64"
      ]
     },
     "execution_count": 11,
     "metadata": {},
     "output_type": "execute_result"
    }
   ],
   "source": [
    "# Check null values\n",
    "df.isnull().sum()"
   ]
  },
  {
   "cell_type": "code",
   "execution_count": 12,
   "metadata": {},
   "outputs": [
    {
     "name": "stdout",
     "output_type": "stream",
     "text": [
      "743\n",
      "Too many unique values --> in NOT possible to create categories --> drop column\n"
     ]
    }
   ],
   "source": [
    "# Your code here\n",
    "\n",
    "# Time variable\n",
    "df.step.unique()\n",
    "print(len(df.step.unique()))\n",
    "print('Too many unique values --> in NOT possible to create categories --> drop column')"
   ]
  },
  {
   "cell_type": "code",
   "execution_count": 13,
   "metadata": {},
   "outputs": [
    {
     "name": "stdout",
     "output_type": "stream",
     "text": [
      "6353307 2722362\n",
      "Too many unique values --> in NOT possible to create categories --> drop column\n"
     ]
    }
   ],
   "source": [
    "# Names\n",
    "df.nameOrig.unique()\n",
    "df.nameDest.unique()\n",
    "print(len(df.nameOrig.unique()),len(df.nameDest.unique()))\n",
    "print('Too many unique values --> in NOT possible to create categories --> drop column')"
   ]
  },
  {
   "cell_type": "code",
   "execution_count": 14,
   "metadata": {},
   "outputs": [
    {
     "data": {
      "text/plain": [
       "array(['PAYMENT', 'TRANSFER', 'CASH_OUT', 'DEBIT', 'CASH_IN'],\n",
       "      dtype=object)"
      ]
     },
     "execution_count": 14,
     "metadata": {},
     "output_type": "execute_result"
    }
   ],
   "source": [
    "df['type'].unique()"
   ]
  },
  {
   "cell_type": "code",
   "execution_count": 15,
   "metadata": {},
   "outputs": [
    {
     "data": {
      "text/html": [
       "<div>\n",
       "<style scoped>\n",
       "    .dataframe tbody tr th:only-of-type {\n",
       "        vertical-align: middle;\n",
       "    }\n",
       "\n",
       "    .dataframe tbody tr th {\n",
       "        vertical-align: top;\n",
       "    }\n",
       "\n",
       "    .dataframe thead th {\n",
       "        text-align: right;\n",
       "    }\n",
       "</style>\n",
       "<table border=\"1\" class=\"dataframe\">\n",
       "  <thead>\n",
       "    <tr style=\"text-align: right;\">\n",
       "      <th></th>\n",
       "      <th>step</th>\n",
       "      <th>type</th>\n",
       "      <th>amount</th>\n",
       "      <th>nameOrig</th>\n",
       "      <th>oldbalanceOrg</th>\n",
       "      <th>newbalanceOrig</th>\n",
       "      <th>nameDest</th>\n",
       "      <th>oldbalanceDest</th>\n",
       "      <th>newbalanceDest</th>\n",
       "      <th>isFraud</th>\n",
       "      <th>isFlaggedFraud</th>\n",
       "    </tr>\n",
       "  </thead>\n",
       "  <tbody>\n",
       "    <tr>\n",
       "      <td>0</td>\n",
       "      <td>1</td>\n",
       "      <td>TRANSFER</td>\n",
       "      <td>181.00</td>\n",
       "      <td>C1305486145</td>\n",
       "      <td>181.00</td>\n",
       "      <td>0.0</td>\n",
       "      <td>C553264065</td>\n",
       "      <td>0.00</td>\n",
       "      <td>0.00</td>\n",
       "      <td>1</td>\n",
       "      <td>0</td>\n",
       "    </tr>\n",
       "    <tr>\n",
       "      <td>1</td>\n",
       "      <td>1</td>\n",
       "      <td>CASH_OUT</td>\n",
       "      <td>181.00</td>\n",
       "      <td>C840083671</td>\n",
       "      <td>181.00</td>\n",
       "      <td>0.0</td>\n",
       "      <td>C38997010</td>\n",
       "      <td>21182.00</td>\n",
       "      <td>0.00</td>\n",
       "      <td>1</td>\n",
       "      <td>0</td>\n",
       "    </tr>\n",
       "    <tr>\n",
       "      <td>2</td>\n",
       "      <td>1</td>\n",
       "      <td>CASH_OUT</td>\n",
       "      <td>229133.94</td>\n",
       "      <td>C905080434</td>\n",
       "      <td>15325.00</td>\n",
       "      <td>0.0</td>\n",
       "      <td>C476402209</td>\n",
       "      <td>5083.00</td>\n",
       "      <td>51513.44</td>\n",
       "      <td>0</td>\n",
       "      <td>0</td>\n",
       "    </tr>\n",
       "    <tr>\n",
       "      <td>3</td>\n",
       "      <td>1</td>\n",
       "      <td>TRANSFER</td>\n",
       "      <td>215310.30</td>\n",
       "      <td>C1670993182</td>\n",
       "      <td>705.00</td>\n",
       "      <td>0.0</td>\n",
       "      <td>C1100439041</td>\n",
       "      <td>22425.00</td>\n",
       "      <td>0.00</td>\n",
       "      <td>0</td>\n",
       "      <td>0</td>\n",
       "    </tr>\n",
       "    <tr>\n",
       "      <td>4</td>\n",
       "      <td>1</td>\n",
       "      <td>TRANSFER</td>\n",
       "      <td>311685.89</td>\n",
       "      <td>C1984094095</td>\n",
       "      <td>10835.00</td>\n",
       "      <td>0.0</td>\n",
       "      <td>C932583850</td>\n",
       "      <td>6267.00</td>\n",
       "      <td>2719172.89</td>\n",
       "      <td>0</td>\n",
       "      <td>0</td>\n",
       "    </tr>\n",
       "    <tr>\n",
       "      <td>...</td>\n",
       "      <td>...</td>\n",
       "      <td>...</td>\n",
       "      <td>...</td>\n",
       "      <td>...</td>\n",
       "      <td>...</td>\n",
       "      <td>...</td>\n",
       "      <td>...</td>\n",
       "      <td>...</td>\n",
       "      <td>...</td>\n",
       "      <td>...</td>\n",
       "      <td>...</td>\n",
       "    </tr>\n",
       "    <tr>\n",
       "      <td>2770404</td>\n",
       "      <td>743</td>\n",
       "      <td>CASH_OUT</td>\n",
       "      <td>339682.13</td>\n",
       "      <td>C786484425</td>\n",
       "      <td>339682.13</td>\n",
       "      <td>0.0</td>\n",
       "      <td>C776919290</td>\n",
       "      <td>0.00</td>\n",
       "      <td>339682.13</td>\n",
       "      <td>1</td>\n",
       "      <td>0</td>\n",
       "    </tr>\n",
       "    <tr>\n",
       "      <td>2770405</td>\n",
       "      <td>743</td>\n",
       "      <td>TRANSFER</td>\n",
       "      <td>6311409.28</td>\n",
       "      <td>C1529008245</td>\n",
       "      <td>6311409.28</td>\n",
       "      <td>0.0</td>\n",
       "      <td>C1881841831</td>\n",
       "      <td>0.00</td>\n",
       "      <td>0.00</td>\n",
       "      <td>1</td>\n",
       "      <td>0</td>\n",
       "    </tr>\n",
       "    <tr>\n",
       "      <td>2770406</td>\n",
       "      <td>743</td>\n",
       "      <td>CASH_OUT</td>\n",
       "      <td>6311409.28</td>\n",
       "      <td>C1162922333</td>\n",
       "      <td>6311409.28</td>\n",
       "      <td>0.0</td>\n",
       "      <td>C1365125890</td>\n",
       "      <td>68488.84</td>\n",
       "      <td>6379898.11</td>\n",
       "      <td>1</td>\n",
       "      <td>0</td>\n",
       "    </tr>\n",
       "    <tr>\n",
       "      <td>2770407</td>\n",
       "      <td>743</td>\n",
       "      <td>TRANSFER</td>\n",
       "      <td>850002.52</td>\n",
       "      <td>C1685995037</td>\n",
       "      <td>850002.52</td>\n",
       "      <td>0.0</td>\n",
       "      <td>C2080388513</td>\n",
       "      <td>0.00</td>\n",
       "      <td>0.00</td>\n",
       "      <td>1</td>\n",
       "      <td>0</td>\n",
       "    </tr>\n",
       "    <tr>\n",
       "      <td>2770408</td>\n",
       "      <td>743</td>\n",
       "      <td>CASH_OUT</td>\n",
       "      <td>850002.52</td>\n",
       "      <td>C1280323807</td>\n",
       "      <td>850002.52</td>\n",
       "      <td>0.0</td>\n",
       "      <td>C873221189</td>\n",
       "      <td>6510099.11</td>\n",
       "      <td>7360101.63</td>\n",
       "      <td>1</td>\n",
       "      <td>0</td>\n",
       "    </tr>\n",
       "  </tbody>\n",
       "</table>\n",
       "<p>2770409 rows × 11 columns</p>\n",
       "</div>"
      ],
      "text/plain": [
       "         step      type      amount     nameOrig  oldbalanceOrg  \\\n",
       "0           1  TRANSFER      181.00  C1305486145         181.00   \n",
       "1           1  CASH_OUT      181.00   C840083671         181.00   \n",
       "2           1  CASH_OUT   229133.94   C905080434       15325.00   \n",
       "3           1  TRANSFER   215310.30  C1670993182         705.00   \n",
       "4           1  TRANSFER   311685.89  C1984094095       10835.00   \n",
       "...       ...       ...         ...          ...            ...   \n",
       "2770404   743  CASH_OUT   339682.13   C786484425      339682.13   \n",
       "2770405   743  TRANSFER  6311409.28  C1529008245     6311409.28   \n",
       "2770406   743  CASH_OUT  6311409.28  C1162922333     6311409.28   \n",
       "2770407   743  TRANSFER   850002.52  C1685995037      850002.52   \n",
       "2770408   743  CASH_OUT   850002.52  C1280323807      850002.52   \n",
       "\n",
       "         newbalanceOrig     nameDest  oldbalanceDest  newbalanceDest  isFraud  \\\n",
       "0                   0.0   C553264065            0.00            0.00        1   \n",
       "1                   0.0    C38997010        21182.00            0.00        1   \n",
       "2                   0.0   C476402209         5083.00        51513.44        0   \n",
       "3                   0.0  C1100439041        22425.00            0.00        0   \n",
       "4                   0.0   C932583850         6267.00      2719172.89        0   \n",
       "...                 ...          ...             ...             ...      ...   \n",
       "2770404             0.0   C776919290            0.00       339682.13        1   \n",
       "2770405             0.0  C1881841831            0.00            0.00        1   \n",
       "2770406             0.0  C1365125890        68488.84      6379898.11        1   \n",
       "2770407             0.0  C2080388513            0.00            0.00        1   \n",
       "2770408             0.0   C873221189      6510099.11      7360101.63        1   \n",
       "\n",
       "         isFlaggedFraud  \n",
       "0                     0  \n",
       "1                     0  \n",
       "2                     0  \n",
       "3                     0  \n",
       "4                     0  \n",
       "...                 ...  \n",
       "2770404               0  \n",
       "2770405               0  \n",
       "2770406               0  \n",
       "2770407               0  \n",
       "2770408               0  \n",
       "\n",
       "[2770409 rows x 11 columns]"
      ]
     },
     "execution_count": 15,
     "metadata": {},
     "output_type": "execute_result"
    }
   ],
   "source": [
    "# Drop types with no fraudolent operations\n",
    "\n",
    "df.drop(df[(df['type'] == 'PAYMENT') | (df['type'] == 'DEBIT') | (df['type'] == 'CASH_IN')].index, inplace = True)\n",
    "df.reset_index(drop=True,inplace = True)\n",
    "df"
   ]
  },
  {
   "cell_type": "code",
   "execution_count": 16,
   "metadata": {},
   "outputs": [
    {
     "data": {
      "text/html": [
       "<div>\n",
       "<style scoped>\n",
       "    .dataframe tbody tr th:only-of-type {\n",
       "        vertical-align: middle;\n",
       "    }\n",
       "\n",
       "    .dataframe tbody tr th {\n",
       "        vertical-align: top;\n",
       "    }\n",
       "\n",
       "    .dataframe thead th {\n",
       "        text-align: right;\n",
       "    }\n",
       "</style>\n",
       "<table border=\"1\" class=\"dataframe\">\n",
       "  <thead>\n",
       "    <tr style=\"text-align: right;\">\n",
       "      <th></th>\n",
       "      <th>step</th>\n",
       "      <th>amount</th>\n",
       "      <th>nameOrig</th>\n",
       "      <th>oldbalanceOrg</th>\n",
       "      <th>newbalanceOrig</th>\n",
       "      <th>nameDest</th>\n",
       "      <th>oldbalanceDest</th>\n",
       "      <th>newbalanceDest</th>\n",
       "      <th>isFraud</th>\n",
       "      <th>isFlaggedFraud</th>\n",
       "      <th>type_CASH_OUT</th>\n",
       "      <th>type_TRANSFER</th>\n",
       "    </tr>\n",
       "  </thead>\n",
       "  <tbody>\n",
       "    <tr>\n",
       "      <td>0</td>\n",
       "      <td>1</td>\n",
       "      <td>181.00</td>\n",
       "      <td>C1305486145</td>\n",
       "      <td>181.00</td>\n",
       "      <td>0.0</td>\n",
       "      <td>C553264065</td>\n",
       "      <td>0.00</td>\n",
       "      <td>0.00</td>\n",
       "      <td>1</td>\n",
       "      <td>0</td>\n",
       "      <td>0</td>\n",
       "      <td>1</td>\n",
       "    </tr>\n",
       "    <tr>\n",
       "      <td>1</td>\n",
       "      <td>1</td>\n",
       "      <td>181.00</td>\n",
       "      <td>C840083671</td>\n",
       "      <td>181.00</td>\n",
       "      <td>0.0</td>\n",
       "      <td>C38997010</td>\n",
       "      <td>21182.00</td>\n",
       "      <td>0.00</td>\n",
       "      <td>1</td>\n",
       "      <td>0</td>\n",
       "      <td>1</td>\n",
       "      <td>0</td>\n",
       "    </tr>\n",
       "    <tr>\n",
       "      <td>2</td>\n",
       "      <td>1</td>\n",
       "      <td>229133.94</td>\n",
       "      <td>C905080434</td>\n",
       "      <td>15325.00</td>\n",
       "      <td>0.0</td>\n",
       "      <td>C476402209</td>\n",
       "      <td>5083.00</td>\n",
       "      <td>51513.44</td>\n",
       "      <td>0</td>\n",
       "      <td>0</td>\n",
       "      <td>1</td>\n",
       "      <td>0</td>\n",
       "    </tr>\n",
       "    <tr>\n",
       "      <td>3</td>\n",
       "      <td>1</td>\n",
       "      <td>215310.30</td>\n",
       "      <td>C1670993182</td>\n",
       "      <td>705.00</td>\n",
       "      <td>0.0</td>\n",
       "      <td>C1100439041</td>\n",
       "      <td>22425.00</td>\n",
       "      <td>0.00</td>\n",
       "      <td>0</td>\n",
       "      <td>0</td>\n",
       "      <td>0</td>\n",
       "      <td>1</td>\n",
       "    </tr>\n",
       "    <tr>\n",
       "      <td>4</td>\n",
       "      <td>1</td>\n",
       "      <td>311685.89</td>\n",
       "      <td>C1984094095</td>\n",
       "      <td>10835.00</td>\n",
       "      <td>0.0</td>\n",
       "      <td>C932583850</td>\n",
       "      <td>6267.00</td>\n",
       "      <td>2719172.89</td>\n",
       "      <td>0</td>\n",
       "      <td>0</td>\n",
       "      <td>0</td>\n",
       "      <td>1</td>\n",
       "    </tr>\n",
       "    <tr>\n",
       "      <td>...</td>\n",
       "      <td>...</td>\n",
       "      <td>...</td>\n",
       "      <td>...</td>\n",
       "      <td>...</td>\n",
       "      <td>...</td>\n",
       "      <td>...</td>\n",
       "      <td>...</td>\n",
       "      <td>...</td>\n",
       "      <td>...</td>\n",
       "      <td>...</td>\n",
       "      <td>...</td>\n",
       "      <td>...</td>\n",
       "    </tr>\n",
       "    <tr>\n",
       "      <td>2770404</td>\n",
       "      <td>743</td>\n",
       "      <td>339682.13</td>\n",
       "      <td>C786484425</td>\n",
       "      <td>339682.13</td>\n",
       "      <td>0.0</td>\n",
       "      <td>C776919290</td>\n",
       "      <td>0.00</td>\n",
       "      <td>339682.13</td>\n",
       "      <td>1</td>\n",
       "      <td>0</td>\n",
       "      <td>1</td>\n",
       "      <td>0</td>\n",
       "    </tr>\n",
       "    <tr>\n",
       "      <td>2770405</td>\n",
       "      <td>743</td>\n",
       "      <td>6311409.28</td>\n",
       "      <td>C1529008245</td>\n",
       "      <td>6311409.28</td>\n",
       "      <td>0.0</td>\n",
       "      <td>C1881841831</td>\n",
       "      <td>0.00</td>\n",
       "      <td>0.00</td>\n",
       "      <td>1</td>\n",
       "      <td>0</td>\n",
       "      <td>0</td>\n",
       "      <td>1</td>\n",
       "    </tr>\n",
       "    <tr>\n",
       "      <td>2770406</td>\n",
       "      <td>743</td>\n",
       "      <td>6311409.28</td>\n",
       "      <td>C1162922333</td>\n",
       "      <td>6311409.28</td>\n",
       "      <td>0.0</td>\n",
       "      <td>C1365125890</td>\n",
       "      <td>68488.84</td>\n",
       "      <td>6379898.11</td>\n",
       "      <td>1</td>\n",
       "      <td>0</td>\n",
       "      <td>1</td>\n",
       "      <td>0</td>\n",
       "    </tr>\n",
       "    <tr>\n",
       "      <td>2770407</td>\n",
       "      <td>743</td>\n",
       "      <td>850002.52</td>\n",
       "      <td>C1685995037</td>\n",
       "      <td>850002.52</td>\n",
       "      <td>0.0</td>\n",
       "      <td>C2080388513</td>\n",
       "      <td>0.00</td>\n",
       "      <td>0.00</td>\n",
       "      <td>1</td>\n",
       "      <td>0</td>\n",
       "      <td>0</td>\n",
       "      <td>1</td>\n",
       "    </tr>\n",
       "    <tr>\n",
       "      <td>2770408</td>\n",
       "      <td>743</td>\n",
       "      <td>850002.52</td>\n",
       "      <td>C1280323807</td>\n",
       "      <td>850002.52</td>\n",
       "      <td>0.0</td>\n",
       "      <td>C873221189</td>\n",
       "      <td>6510099.11</td>\n",
       "      <td>7360101.63</td>\n",
       "      <td>1</td>\n",
       "      <td>0</td>\n",
       "      <td>1</td>\n",
       "      <td>0</td>\n",
       "    </tr>\n",
       "  </tbody>\n",
       "</table>\n",
       "<p>2770409 rows × 12 columns</p>\n",
       "</div>"
      ],
      "text/plain": [
       "         step      amount     nameOrig  oldbalanceOrg  newbalanceOrig  \\\n",
       "0           1      181.00  C1305486145         181.00             0.0   \n",
       "1           1      181.00   C840083671         181.00             0.0   \n",
       "2           1   229133.94   C905080434       15325.00             0.0   \n",
       "3           1   215310.30  C1670993182         705.00             0.0   \n",
       "4           1   311685.89  C1984094095       10835.00             0.0   \n",
       "...       ...         ...          ...            ...             ...   \n",
       "2770404   743   339682.13   C786484425      339682.13             0.0   \n",
       "2770405   743  6311409.28  C1529008245     6311409.28             0.0   \n",
       "2770406   743  6311409.28  C1162922333     6311409.28             0.0   \n",
       "2770407   743   850002.52  C1685995037      850002.52             0.0   \n",
       "2770408   743   850002.52  C1280323807      850002.52             0.0   \n",
       "\n",
       "            nameDest  oldbalanceDest  newbalanceDest  isFraud  isFlaggedFraud  \\\n",
       "0         C553264065            0.00            0.00        1               0   \n",
       "1          C38997010        21182.00            0.00        1               0   \n",
       "2         C476402209         5083.00        51513.44        0               0   \n",
       "3        C1100439041        22425.00            0.00        0               0   \n",
       "4         C932583850         6267.00      2719172.89        0               0   \n",
       "...              ...             ...             ...      ...             ...   \n",
       "2770404   C776919290            0.00       339682.13        1               0   \n",
       "2770405  C1881841831            0.00            0.00        1               0   \n",
       "2770406  C1365125890        68488.84      6379898.11        1               0   \n",
       "2770407  C2080388513            0.00            0.00        1               0   \n",
       "2770408   C873221189      6510099.11      7360101.63        1               0   \n",
       "\n",
       "         type_CASH_OUT  type_TRANSFER  \n",
       "0                    0              1  \n",
       "1                    1              0  \n",
       "2                    1              0  \n",
       "3                    0              1  \n",
       "4                    0              1  \n",
       "...                ...            ...  \n",
       "2770404              1              0  \n",
       "2770405              0              1  \n",
       "2770406              1              0  \n",
       "2770407              0              1  \n",
       "2770408              1              0  \n",
       "\n",
       "[2770409 rows x 12 columns]"
      ]
     },
     "execution_count": 16,
     "metadata": {},
     "output_type": "execute_result"
    }
   ],
   "source": [
    "# Create bynary column (Type)\n",
    "\n",
    "df = pd.get_dummies(df, columns = ['type'])\n",
    "df"
   ]
  },
  {
   "cell_type": "code",
   "execution_count": 17,
   "metadata": {},
   "outputs": [
    {
     "data": {
      "text/html": [
       "<div>\n",
       "<style scoped>\n",
       "    .dataframe tbody tr th:only-of-type {\n",
       "        vertical-align: middle;\n",
       "    }\n",
       "\n",
       "    .dataframe tbody tr th {\n",
       "        vertical-align: top;\n",
       "    }\n",
       "\n",
       "    .dataframe thead th {\n",
       "        text-align: right;\n",
       "    }\n",
       "</style>\n",
       "<table border=\"1\" class=\"dataframe\">\n",
       "  <thead>\n",
       "    <tr style=\"text-align: right;\">\n",
       "      <th></th>\n",
       "      <th>amount</th>\n",
       "      <th>oldbalanceOrg</th>\n",
       "      <th>oldbalanceDest</th>\n",
       "      <th>isFraud</th>\n",
       "      <th>isFlaggedFraud</th>\n",
       "      <th>type</th>\n",
       "    </tr>\n",
       "  </thead>\n",
       "  <tbody>\n",
       "    <tr>\n",
       "      <td>0</td>\n",
       "      <td>181.00</td>\n",
       "      <td>181.00</td>\n",
       "      <td>0.00</td>\n",
       "      <td>1</td>\n",
       "      <td>0</td>\n",
       "      <td>0</td>\n",
       "    </tr>\n",
       "    <tr>\n",
       "      <td>1</td>\n",
       "      <td>181.00</td>\n",
       "      <td>181.00</td>\n",
       "      <td>21182.00</td>\n",
       "      <td>1</td>\n",
       "      <td>0</td>\n",
       "      <td>1</td>\n",
       "    </tr>\n",
       "    <tr>\n",
       "      <td>2</td>\n",
       "      <td>229133.94</td>\n",
       "      <td>15325.00</td>\n",
       "      <td>5083.00</td>\n",
       "      <td>0</td>\n",
       "      <td>0</td>\n",
       "      <td>1</td>\n",
       "    </tr>\n",
       "    <tr>\n",
       "      <td>3</td>\n",
       "      <td>215310.30</td>\n",
       "      <td>705.00</td>\n",
       "      <td>22425.00</td>\n",
       "      <td>0</td>\n",
       "      <td>0</td>\n",
       "      <td>0</td>\n",
       "    </tr>\n",
       "    <tr>\n",
       "      <td>4</td>\n",
       "      <td>311685.89</td>\n",
       "      <td>10835.00</td>\n",
       "      <td>6267.00</td>\n",
       "      <td>0</td>\n",
       "      <td>0</td>\n",
       "      <td>0</td>\n",
       "    </tr>\n",
       "    <tr>\n",
       "      <td>...</td>\n",
       "      <td>...</td>\n",
       "      <td>...</td>\n",
       "      <td>...</td>\n",
       "      <td>...</td>\n",
       "      <td>...</td>\n",
       "      <td>...</td>\n",
       "    </tr>\n",
       "    <tr>\n",
       "      <td>2770404</td>\n",
       "      <td>339682.13</td>\n",
       "      <td>339682.13</td>\n",
       "      <td>0.00</td>\n",
       "      <td>1</td>\n",
       "      <td>0</td>\n",
       "      <td>1</td>\n",
       "    </tr>\n",
       "    <tr>\n",
       "      <td>2770405</td>\n",
       "      <td>6311409.28</td>\n",
       "      <td>6311409.28</td>\n",
       "      <td>0.00</td>\n",
       "      <td>1</td>\n",
       "      <td>0</td>\n",
       "      <td>0</td>\n",
       "    </tr>\n",
       "    <tr>\n",
       "      <td>2770406</td>\n",
       "      <td>6311409.28</td>\n",
       "      <td>6311409.28</td>\n",
       "      <td>68488.84</td>\n",
       "      <td>1</td>\n",
       "      <td>0</td>\n",
       "      <td>1</td>\n",
       "    </tr>\n",
       "    <tr>\n",
       "      <td>2770407</td>\n",
       "      <td>850002.52</td>\n",
       "      <td>850002.52</td>\n",
       "      <td>0.00</td>\n",
       "      <td>1</td>\n",
       "      <td>0</td>\n",
       "      <td>0</td>\n",
       "    </tr>\n",
       "    <tr>\n",
       "      <td>2770408</td>\n",
       "      <td>850002.52</td>\n",
       "      <td>850002.52</td>\n",
       "      <td>6510099.11</td>\n",
       "      <td>1</td>\n",
       "      <td>0</td>\n",
       "      <td>1</td>\n",
       "    </tr>\n",
       "  </tbody>\n",
       "</table>\n",
       "<p>2770409 rows × 6 columns</p>\n",
       "</div>"
      ],
      "text/plain": [
       "             amount  oldbalanceOrg  oldbalanceDest  isFraud  isFlaggedFraud  \\\n",
       "0            181.00         181.00            0.00        1               0   \n",
       "1            181.00         181.00        21182.00        1               0   \n",
       "2         229133.94       15325.00         5083.00        0               0   \n",
       "3         215310.30         705.00        22425.00        0               0   \n",
       "4         311685.89       10835.00         6267.00        0               0   \n",
       "...             ...            ...             ...      ...             ...   \n",
       "2770404   339682.13      339682.13            0.00        1               0   \n",
       "2770405  6311409.28     6311409.28            0.00        1               0   \n",
       "2770406  6311409.28     6311409.28        68488.84        1               0   \n",
       "2770407   850002.52      850002.52            0.00        1               0   \n",
       "2770408   850002.52      850002.52      6510099.11        1               0   \n",
       "\n",
       "         type  \n",
       "0           0  \n",
       "1           1  \n",
       "2           1  \n",
       "3           0  \n",
       "4           0  \n",
       "...       ...  \n",
       "2770404     1  \n",
       "2770405     0  \n",
       "2770406     1  \n",
       "2770407     0  \n",
       "2770408     1  \n",
       "\n",
       "[2770409 rows x 6 columns]"
      ]
     },
     "execution_count": 17,
     "metadata": {},
     "output_type": "execute_result"
    }
   ],
   "source": [
    "# Drop unuseful columns\n",
    "\n",
    "df.drop(['step', 'nameOrig', 'nameDest','newbalanceOrig','newbalanceDest','type_TRANSFER'], inplace=True, axis=1)\n",
    "df.rename(columns = {'type_CASH_OUT':'type'}, inplace = True)\n",
    "df"
   ]
  },
  {
   "cell_type": "code",
   "execution_count": 22,
   "metadata": {},
   "outputs": [
    {
     "data": {
      "image/png": "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\n",
      "text/plain": [
       "<Figure size 864x576 with 2 Axes>"
      ]
     },
     "metadata": {},
     "output_type": "display_data"
    }
   ],
   "source": [
    "# Check correlation\n",
    "sns.set(style=\"white\")\n",
    "\n",
    "# Generate a mask for the upper triangle\n",
    "mask = np.triu(np.ones_like(df.corr(), dtype=np.bool))\n",
    "\n",
    "# Set up the matplotlib figure\n",
    "f, ax = plt.subplots(figsize=(12, 8))\n",
    "\n",
    "# Generate a custom diverging colormap\n",
    "cmap = sns.diverging_palette(220, 10, as_cmap=True)\n",
    "\n",
    "# Draw the heatmap with the mask and correct aspect ratio\n",
    "sns.heatmap(df.corr(), mask=mask, cmap=cmap, vmax=1, center=0, vmin=-1,\n",
    "            square=True, linewidths=.5, annot = True, cbar_kws={\"shrink\": .5})\n",
    "\n",
    "plt.show()"
   ]
  },
  {
   "cell_type": "code",
   "execution_count": 24,
   "metadata": {},
   "outputs": [
    {
     "data": {
      "text/plain": [
       "0    2762196\n",
       "1       8213\n",
       "Name: isFraud, dtype: int64"
      ]
     },
     "execution_count": 24,
     "metadata": {},
     "output_type": "execute_result"
    }
   ],
   "source": [
    " # Check unbalanced target\n",
    "df.isFraud.value_counts()"
   ]
  },
  {
   "cell_type": "code",
   "execution_count": 23,
   "metadata": {},
   "outputs": [
    {
     "data": {
      "image/png": "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\n",
      "text/plain": [
       "<Figure size 432x288 with 1 Axes>"
      ]
     },
     "metadata": {},
     "output_type": "display_data"
    }
   ],
   "source": [
    "cp = sns.countplot(df[\"isFraud\"])\n",
    "cp.set_yscale(\"log\")"
=======
   "execution_count": 1,
   "metadata": {},
   "outputs": [],
   "source": [
    "# Your code here\n"
>>>>>>> 505ad244769bf1a89837435ff97127f79113fd88
   ]
  },
  {
   "cell_type": "markdown",
   "metadata": {},
   "source": [
    "### Run a logisitc regression classifier and evaluate its accuracy."
   ]
  },
  {
   "cell_type": "code",
<<<<<<< HEAD
   "execution_count": 25,
   "metadata": {},
   "outputs": [],
   "source": [
    "# Data\n",
    "X = df.drop('isFraud', axis=1)\n",
    "y = df.isFraud"
   ]
  },
  {
   "cell_type": "code",
   "execution_count": 28,
   "metadata": {},
   "outputs": [],
   "source": [
    "# X"
   ]
  },
  {
   "cell_type": "code",
   "execution_count": 29,
   "metadata": {},
   "outputs": [],
   "source": [
    "# y"
   ]
  },
  {
   "cell_type": "code",
   "execution_count": 31,
   "metadata": {},
   "outputs": [
    {
     "data": {
      "text/plain": [
       "array([[-1720942.66116189,  -204372.59059289],\n",
       "       [-1699808.34302085,  -205790.49773235],\n",
       "       [-1700536.41407892,    24168.14944576],\n",
       "       ...,\n",
       "       [-1236434.41128543,  6356696.5521841 ],\n",
       "       [-1664903.92347092,   679707.90667897],\n",
       "       [ 4830540.59170916,   243926.77148454]])"
      ]
     },
     "execution_count": 31,
     "metadata": {},
     "output_type": "execute_result"
    }
   ],
   "source": [
    "# Unbalance target -- Viz with PCA to understand what's the better undersampling method\n",
    "\n",
    "from sklearn.decomposition import PCA\n",
    "\n",
    "pca = PCA(n_components=2)\n",
    "pca.fit(X)\n",
    "pc = pca.transform(X)\n",
    "pc"
   ]
  },
  {
   "cell_type": "code",
   "execution_count": 32,
   "metadata": {},
   "outputs": [
    {
     "data": {
      "image/png": "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\n",
      "text/plain": [
       "<Figure size 432x288 with 1 Axes>"
      ]
     },
     "metadata": {},
     "output_type": "display_data"
    }
   ],
   "source": [
    "# Viz\n",
    "plt.scatter(pc[:,0],pc[:,1], c =y);"
   ]
  },
  {
   "cell_type": "code",
   "execution_count": 39,
   "metadata": {},
   "outputs": [],
   "source": [
    "# Undersampling -MIss\n",
    "from imblearn.under_sampling import NearMiss\n",
    "\n",
    "nr = NearMiss()\n",
    "X_under, y_under = nr.fit_resample(X, y)"
   ]
  },
  {
   "cell_type": "code",
   "execution_count": 40,
   "metadata": {},
   "outputs": [
    {
     "data": {
      "text/plain": [
       "array([[-1109069.65271457,  -219015.16768047],\n",
       "       [-1012752.72013613,  -223633.36580835],\n",
       "       [-1135706.12038323,  -217738.16668245],\n",
       "       ...,\n",
       "       [ 7607142.80601585,  -568366.06207148],\n",
       "       [   40024.84905248,  -274110.40399072],\n",
       "       [  367220.75516902,  6227305.67337295]])"
      ]
     },
     "execution_count": 40,
     "metadata": {},
     "output_type": "execute_result"
    }
   ],
   "source": [
    "pca = PCA(n_components=2)\n",
    "pca.fit(X_under)\n",
    "pc_under = pca.transform(X_under)\n",
    "pc_under"
   ]
  },
  {
   "cell_type": "code",
   "execution_count": 41,
   "metadata": {},
   "outputs": [
    {
     "data": {
      "image/png": "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\n",
      "text/plain": [
       "<Figure size 432x288 with 1 Axes>"
      ]
     },
     "metadata": {},
     "output_type": "display_data"
    }
   ],
   "source": [
    "# Viz - undersampling\n",
    "plt.scatter(pc_under[:,0],pc_under[:,1], c =y_under);"
   ]
  },
  {
   "cell_type": "code",
   "execution_count": 46,
   "metadata": {},
   "outputs": [],
   "source": [
    "# Your code here\n",
    "# import libraries\n",
    "from sklearn.model_selection import train_test_split \n",
    "X_train, X_test, y_train, y_test = train_test_split(X_under, y_under, test_size = 0.2, random_state = 0) "
   ]
  },
  {
   "cell_type": "code",
   "execution_count": 47,
   "metadata": {},
   "outputs": [
    {
     "data": {
      "text/plain": [
       "LogisticRegression()"
      ]
     },
     "execution_count": 47,
     "metadata": {},
     "output_type": "execute_result"
    }
   ],
   "source": [
    "# Logistic regression\n",
    "\n",
    "from sklearn.linear_model import LogisticRegression\n",
    "from sklearn.metrics import confusion_matrix, accuracy_score\n",
    "\n",
    "model = LogisticRegression()\n",
    "model.fit(X_train, y_train)"
   ]
  },
  {
   "cell_type": "code",
   "execution_count": 48,
   "metadata": {},
   "outputs": [
    {
     "name": "stdout",
     "output_type": "stream",
     "text": [
      "0.4986301369863014\n",
      "[[   0 6583]\n",
      " [   5 6552]]\n"
     ]
    }
   ],
   "source": [
    "y_pred = model.predict(X_train)\n",
    "\n",
    "print(accuracy_score(y_train, y_pred))\n",
    "print(confusion_matrix(y_train, y_pred))"
   ]
  },
  {
   "cell_type": "code",
   "execution_count": 50,
   "metadata": {},
   "outputs": [
    {
     "name": "stdout",
     "output_type": "stream",
     "text": [
      "0.5036518563603165\n",
      "[[   0 1630]\n",
      " [   1 1655]]\n"
     ]
    }
   ],
   "source": [
    "y_pred_test = model.predict(X_test)\n",
    "\n",
    "print(accuracy_score(y_test, y_pred_test))\n",
    "print(confusion_matrix(y_test, y_pred_test))"
   ]
  },
  {
   "cell_type": "code",
=======
>>>>>>> 505ad244769bf1a89837435ff97127f79113fd88
   "execution_count": null,
   "metadata": {},
   "outputs": [],
   "source": [
<<<<<<< HEAD
    "# What's wrong with resampling?"
=======
    "# Your code here"
>>>>>>> 505ad244769bf1a89837435ff97127f79113fd88
   ]
  },
  {
   "cell_type": "markdown",
   "metadata": {},
   "source": [
    "### Now pick a model of your choice and evaluate its accuracy."
   ]
  },
  {
   "cell_type": "code",
<<<<<<< HEAD
   "execution_count": 19,
=======
   "execution_count": null,
>>>>>>> 505ad244769bf1a89837435ff97127f79113fd88
   "metadata": {},
   "outputs": [],
   "source": [
    "# Your code here"
   ]
  },
  {
   "cell_type": "markdown",
   "metadata": {},
   "source": [
    "### Which model worked better and how do you know?"
   ]
  },
  {
   "cell_type": "code",
<<<<<<< HEAD
   "execution_count": 20,
=======
   "execution_count": 2,
>>>>>>> 505ad244769bf1a89837435ff97127f79113fd88
   "metadata": {},
   "outputs": [],
   "source": [
    "# Your response here"
   ]
  }
 ],
 "metadata": {
  "kernelspec": {
   "display_name": "Python 3",
   "language": "python",
   "name": "python3"
  },
  "language_info": {
   "codemirror_mode": {
    "name": "ipython",
    "version": 3
   },
   "file_extension": ".py",
   "mimetype": "text/x-python",
   "name": "python",
   "nbconvert_exporter": "python",
   "pygments_lexer": "ipython3",
<<<<<<< HEAD
   "version": "3.7.4"
=======
   "version": "3.7.3"
>>>>>>> 505ad244769bf1a89837435ff97127f79113fd88
  },
  "toc": {
   "base_numbering": 1,
   "nav_menu": {},
   "number_sections": true,
   "sideBar": true,
   "skip_h1_title": false,
   "title_cell": "Table of Contents",
   "title_sidebar": "Contents",
   "toc_cell": false,
   "toc_position": {},
   "toc_section_display": true,
   "toc_window_display": false
  },
  "varInspector": {
   "cols": {
    "lenName": 16,
    "lenType": 16,
    "lenVar": 40
   },
   "kernels_config": {
    "python": {
     "delete_cmd_postfix": "",
     "delete_cmd_prefix": "del ",
     "library": "var_list.py",
     "varRefreshCmd": "print(var_dic_list())"
    },
    "r": {
     "delete_cmd_postfix": ") ",
     "delete_cmd_prefix": "rm(",
     "library": "var_list.r",
     "varRefreshCmd": "cat(var_dic_list()) "
    }
   },
   "types_to_exclude": [
    "module",
    "function",
    "builtin_function_or_method",
    "instance",
    "_Feature"
   ],
   "window_display": false
  }
 },
 "nbformat": 4,
<<<<<<< HEAD
 "nbformat_minor": 4
=======
 "nbformat_minor": 2
>>>>>>> 505ad244769bf1a89837435ff97127f79113fd88
}
